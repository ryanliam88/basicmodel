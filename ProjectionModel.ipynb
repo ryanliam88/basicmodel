{
 "cells": [
  {
   "cell_type": "markdown",
   "id": "2ef28fd0",
   "metadata": {},
   "source": [
    "## Import Classes and Files"
   ]
  },
  {
   "cell_type": "code",
   "execution_count": 1,
   "id": "5fb7d445",
   "metadata": {},
   "outputs": [],
   "source": [
    "import numpy as np\n",
    "import matplotlib.pyplot as plt\n",
    "import math\n",
    "import pandas as pd\n",
    "#need these libraries"
   ]
  },
  {
   "cell_type": "code",
   "execution_count": 2,
   "id": "4f55ca5f",
   "metadata": {},
   "outputs": [],
   "source": [
    "hits16 = pd.read_csv('2016 Hitting.csv')\n",
    "pitch16 = pd.read_csv('2016 Pitching.csv')\n",
    "\n",
    "hits16.index = hits16.iloc[:,0]\n",
    "pitch16.index = pitch16.iloc[:,0]"
   ]
  },
  {
   "cell_type": "code",
   "execution_count": 3,
   "id": "5a15ba19",
   "metadata": {},
   "outputs": [],
   "source": [
    "hits17 = pd.read_csv('2017 Hitting.csv')\n",
    "pitch17 = pd.read_csv('2017 Pitching.csv')\n",
    "\n",
    "hits17.index = hits17.iloc[:,0]\n",
    "pitch17.index = pitch17.iloc[:,0]"
   ]
  },
  {
   "cell_type": "code",
   "execution_count": 4,
   "id": "a5be9fb0",
   "metadata": {},
   "outputs": [],
   "source": [
    "hits18 = pd.read_csv('2018 Hitting.csv')\n",
    "pitch18 = pd.read_csv('2018 Pitching.csv')\n",
    "\n",
    "hits18.index = hits18.iloc[:,0]\n",
    "pitch18.index = pitch18.iloc[:,0]"
   ]
  },
  {
   "cell_type": "code",
   "execution_count": 5,
   "id": "dd2d2ef8",
   "metadata": {},
   "outputs": [],
   "source": [
    "hits19 = pd.read_csv('2019 Hitting.csv')\n",
    "pitch19 = pd.read_csv('2019 Pitching.csv')\n",
    "\n",
    "hits19.index = hits19.iloc[:,0]\n",
    "pitch19.index = pitch19.iloc[:,0]"
   ]
  },
  {
   "cell_type": "code",
   "execution_count": 6,
   "id": "945c1f4a",
   "metadata": {},
   "outputs": [],
   "source": [
    "hits21 = pd.read_csv('2021 Hitting.csv')\n",
    "pitch21 = pd.read_csv('2021 Pitching.csv')\n",
    "\n",
    "hits21.index = hits21.iloc[:,0]\n",
    "pitch21.index = pitch21.iloc[:,0]\n",
    "\n",
    "#past data"
   ]
  },
  {
   "cell_type": "code",
   "execution_count": 7,
   "id": "99a5bd3f",
   "metadata": {},
   "outputs": [],
   "source": [
    "hits22 = pd.read_csv('2022 Hitting.csv')\n",
    "pitch22 = pd.read_csv('2022 Pitching.csv')\n",
    "\n",
    "hits22.index = hits22.iloc[:,0]\n",
    "pitch22.index = pitch22.iloc[:,0]\n"
   ]
  },
  {
   "cell_type": "code",
   "execution_count": 8,
   "id": "1345773d",
   "metadata": {},
   "outputs": [],
   "source": [
    "lineups22 = pd.read_csv('2022 Lineups.csv')\n",
    "lineups22.index = lineups22.iloc[:,0]\n",
    "\n",
    "#default lineups for each team from the year 2022, will need daily lineups edited in the future"
   ]
  },
  {
   "cell_type": "code",
   "execution_count": 12,
   "id": "2609e250",
   "metadata": {},
   "outputs": [],
   "source": [
    "#start22 = pd.read_csv('2022 Starter Projections.csv')\n",
    "#relief22 = pd.read_csv('2022 Reliever Projections.csv')\n",
    "#hit22 = pd.read_csv('2022 Hitting Projections.csv')\n",
    "\n",
    "\n",
    "#start22.index = start22.iloc[:,0]\n",
    "#relief22.index = relief22.iloc[:,0]\n",
    "#hit22.index = hit22.iloc[:,0]\n",
    "\n",
    "#2022 player projections"
   ]
  },
  {
   "cell_type": "code",
   "execution_count": 9,
   "id": "8e6e43a4",
   "metadata": {},
   "outputs": [],
   "source": [
    "games21 = pd.read_table('GL2021.txt',delimiter=',',usecols=[0,3,6,9,10,102,104],header=None)\n",
    "games21.columns= ['Date','Visiting Team', 'Home Team', \"Visitor Score\", 'Home Score', 'Visiting Pitcher', 'Home Pitcher']\n",
    "\n",
    "games19 = pd.read_table('GL2019.txt',delimiter=',',usecols=[0,3,6,9,10,102,104],header=None)\n",
    "games19.columns= ['Date','Visiting Team', 'Home Team', \"Visitor Score\", 'Home Score', 'Visiting Pitcher', 'Home Pitcher']\n",
    "\n",
    "games18 = pd.read_table('GL2018.txt',delimiter=',',usecols=[0,3,6,9,10,102,104],header=None)\n",
    "games18.columns= ['Date','Visiting Team', 'Home Team', \"Visitor Score\", 'Home Score', 'Visiting Pitcher', 'Home Pitcher']\n",
    "\n",
    "games17 = pd.read_table('GL2017.txt',delimiter=',',usecols=[0,3,6,9,10,102,104],header=None)\n",
    "games17.columns= ['Date','Visiting Team', 'Home Team', \"Visitor Score\", 'Home Score', 'Visiting Pitcher', 'Home Pitcher']\n",
    "\n",
    "games16 = pd.read_table('GL2016.txt',delimiter=',',usecols=[0,3,6,9,10,102,104],header=None)\n",
    "games16.columns= ['Date','Visiting Team', 'Home Team', \"Visitor Score\", 'Home Score', 'Visiting Pitcher', 'Home Pitcher']"
   ]
  },
  {
   "cell_type": "code",
   "execution_count": 10,
   "id": "bcf91c7f",
   "metadata": {},
   "outputs": [
    {
     "data": {
      "text/plain": [
       "0.24839"
      ]
     },
     "execution_count": 10,
     "metadata": {},
     "output_type": "execute_result"
    }
   ],
   "source": [
    "hits18['OBPxS'].loc['Mike Trout']\n",
    "\n",
    "#It works! but the below values are average OBPxS for every player's projection and includes a lot of players who likely won't play\n",
    "\n",
    "#2016 OBPxS average: 0.108266\n",
    "#2017 OBPxS average:0.110482\n",
    "#2018 OBPxS average:0.112843\n",
    "#2019 OBPxS average:0.108721\n",
    "#2021 OBPxS average:0.111083\n",
    "#2022 OBPxS average:0.108459"
   ]
  },
  {
   "cell_type": "markdown",
   "id": "2d898701",
   "metadata": {},
   "source": [
    "## The Calculations"
   ]
  },
  {
   "cell_type": "code",
   "execution_count": 11,
   "id": "d505c21d",
   "metadata": {},
   "outputs": [],
   "source": [
    "\n",
    "#ORIGINAL VERSION, FOR REFERENCE\n",
    "def game_calc(home_team,away_team,homeP,awayP,pitching=pitch16,hitting=hits16,xRuns=8.6): \n",
    "    #starter references starting pitcher stats for a given year\n",
    "    if (pitching['Tm'].loc[homeP] != home_team) & (pitching['Tm'].loc[homeP] != '- - -'): \n",
    "        #print(\"Home Starter doesn't play for that team\")\n",
    "        #using a mismatched starter/team will probably break everything, so let's not do that\n",
    "        return [0,0,.501,.499]\n",
    "    elif (pitching['Tm'].loc[awayP] != away_team) & (pitching['Tm'].loc[awayP] != '- - -'):\n",
    "        #print(\"Away Starter doesn't play for that team\")\n",
    "        return [0,0,.501,.499]\n",
    "    else:\n",
    "        away_xRA = pitching['Combo'].loc[awayP]*(2/3)   +  (4.53*(1/3))*relief['League Percentile'].loc[away_team] #starter + relief xRA\n",
    "        home_xRA = pitching['Combo'].loc[homeP]*(2/3)   +  (4.53*(1/3))*relief['League Percentile'].loc[home_team]\n",
    "        home_xRS = hitting['League Percentile'].loc[home_team] * (away_xRA/4.53) * 4.53\n",
    "        away_xRS = hitting['League Percentile'].loc[away_team] * (home_xRA/4.53) * 4.53\n",
    "        \n",
    "        if xRuns == 8.6: #I don't really want to use the default value of 2*average runs scored/game but it's there if needed\n",
    "                xRuns = home_xRS+away_xRS\n",
    "        \n",
    "        exponent = 1.5*math.log(xRuns,10) + .45\n",
    "        \n",
    "        home_win_pct = (home_xRS**exponent)/((away_xRS**exponent) + (home_xRS**exponent)) + .03 #3% home field adjustment\n",
    "        away_win_pct = (away_xRS**exponent)/((home_xRS**exponent) + (away_xRS**exponent)) - .03\n",
    "        \n",
    "        \n",
    "    \n",
    "        return [home_xRS, away_xRS, home_win_pct, away_win_pct]\n",
    "    "
   ]
  },
  {
   "cell_type": "code",
   "execution_count": 20,
   "id": "9f6d7060",
   "metadata": {},
   "outputs": [],
   "source": [
    "#this function will eventually return the full game preedicted results\n",
    "\n",
    "def lineup_game_calc(home_team,away_team,homeP,awayP,home_lineup=lineups22.loc['ATL'][1:10], away_lineup = lineups22.loc['ARI'][1:10], pitching=pitch22,hitting=hits22,xRuns=8.6):\n",
    "    if (pitching['Tm'].loc[homeP] != home_team) & (pitching['Tm'].loc[homeP] != '- - -'): \n",
    "        #print(\"Home Starter doesn't play for that team\")\n",
    "        #using a mismatched starter/team will probably break everything, so let's not do that\n",
    "        return [0,0]\n",
    "    elif (pitching['Tm'].loc[awayP] != away_team) & (pitching['Tm'].loc[awayP] != '- - -'):\n",
    "        #print(\"Away Starter doesn't play for that team\")\n",
    "        return [0,0]\n",
    "    else:\n",
    "        \n",
    "        #2022 average O rating = 1.30927\n",
    "        \n",
    "        home_o_rating = lineup_strength(home_team,lineups22,hitting)\n",
    "        away_o_rating = lineup_strength(away_team,lineups22,hitting)\n",
    "        print(home_o_rating,away_o_rating)\n",
    "        #offensive rating is a calculated stat based on every players OBPxS and how many plate appearances they'll see\n",
    "        #need to calculate relief pitching somehow\n",
    "        \n",
    "        away_xRA = pitching['ERA'].loc[awayP]*(pitching['IP']/pitching['GS'])   +  (4.53*(1/3))*relief['League Percentile'].loc[away_team]\n",
    "        #original- away_xRA = starter['Combo'].loc[awayP]*(2/3)   +  (4.53*(1/3))*relief['League Percentile'].loc[away_team]\n",
    "    \n",
    "    \n",
    "        return [home_o_rating,away_o_rating]"
   ]
  },
  {
   "cell_type": "code",
   "execution_count": 21,
   "id": "740b43b0",
   "metadata": {
    "scrolled": true
   },
   "outputs": [
    {
     "data": {
      "text/plain": [
       "[1.3247623981199999, 1.5643957150899999]"
      ]
     },
     "execution_count": 21,
     "metadata": {},
     "output_type": "execute_result"
    }
   ],
   "source": [
    "lineup_game_calc('NYM','LAD','Max Scherzer', 'Clayton Kershaw',lineups22.loc['NYM'][1:10],lineups22.loc['LAD'][1:10],pitch22,hits22)"
   ]
  },
  {
   "cell_type": "code",
   "execution_count": 38,
   "id": "b889b344",
   "metadata": {
    "scrolled": false
   },
   "outputs": [
    {
     "name": "stdout",
     "output_type": "stream",
     "text": [
      "Eddie Rosario 0.1457\n",
      "Ozzie Albies 0.16104\n",
      "Matt Olson 0.20925\n",
      "Marcell Ozuna 0.154512\n",
      "Austin Riley 0.166815\n",
      "Adam Duvall 0.141899\n",
      "Dansby Swanson 0.138346\n",
      "Alex Dickerson 0.139797\n",
      "Travis d'Arnaud 0.124949\n"
     ]
    }
   ],
   "source": [
    "Atlanta = lineups22.loc['ATL'][1:10]\n",
    "for i in Atlanta:\n",
    "    print(i,hits22['OBPxS'].loc[i])\n",
    "#testing and visualizing lineups"
   ]
  },
  {
   "cell_type": "code",
   "execution_count": 15,
   "id": "f0de1e68",
   "metadata": {},
   "outputs": [
    {
     "data": {
      "text/plain": [
       "1.38972000413"
      ]
     },
     "execution_count": 15,
     "metadata": {},
     "output_type": "execute_result"
    }
   ],
   "source": [
    "i=0\n",
    "test_team_o_rating = 0\n",
    "#team.size should always be 9\n",
    "while i < Atlanta.size:\n",
    "    #modifier for different lineup position\n",
    "    mod_list=[1.102,1.076,1.0496,1.026,1,0.9787,0.9504,00.92199,0.8936]\n",
    "    \n",
    "    test_team_o_rating+=(hits22['OBPxS'].loc[Atlanta[i]]*mod_list[i])\n",
    "        \n",
    "    i+=1\n",
    "test_team_o_rating"
   ]
  },
  {
   "cell_type": "code",
   "execution_count": 16,
   "id": "1777d0cd",
   "metadata": {},
   "outputs": [],
   "source": []
  },
  {
   "cell_type": "code",
   "execution_count": 16,
   "id": "cb599ab1",
   "metadata": {
    "scrolled": true
   },
   "outputs": [],
   "source": [
    "# this function returns a team's offensive rating\n",
    "\n",
    "def lineup_strength(team, season_lineup = lineups22, season_stats = hits22):\n",
    "    #team is in 3 letter 'OAK' format\n",
    "    mod_list=[1.102,1.076,1.0496,1.026,1,0.9787,0.9504,00.92199,0.8936]\n",
    "    k=0\n",
    "    #k is just the iterant variable\n",
    "    \n",
    "    team_o_rating=0\n",
    "    #team_o_rating, when completed is the team's full lineup strength\n",
    "    \n",
    "    this_lineup=season_lineup.loc[team][1:10]\n",
    "    #specifying which team's lineup\n",
    "    \n",
    "    while k <9:\n",
    "        team_o_rating+=(season_stats['OBPxS'].loc[this_lineup[k]]*mod_list[k])\n",
    "        k+=1\n",
    "        #iterate through lineup and add the batting order adjusted player impacts\n",
    "    return team_o_rating\n",
    "        \n"
   ]
  },
  {
   "cell_type": "code",
   "execution_count": 50,
   "id": "29ba131d",
   "metadata": {},
   "outputs": [],
   "source": [
    "def calc_league_offense(season_lineup = lineups22, season_hitting = hits22):\n",
    "    #using this to find our league-wide offensive benchmark\n",
    "    league_rating = 0\n",
    "    \n",
    "    for t in lineups['Team']:\n",
    "        rating = lineup_strength(t,season_lineup ,season_hitting)\n",
    "        \n",
    "        league_rating += rating\n",
    "        #adding each team's offensive power to the league as a whole\n",
    "    league_rating = league_rating/30\n",
    "    #should give league average OBPxS?\n",
    "    return league_rating\n",
    "#league wide offense is calculated, giving us a baseline."
   ]
  },
  {
   "cell_type": "code",
   "execution_count": 49,
   "id": "25a8b466",
   "metadata": {},
   "outputs": [
    {
     "data": {
      "text/plain": [
       "1.309273464069333"
      ]
     },
     "execution_count": 49,
     "metadata": {},
     "output_type": "execute_result"
    }
   ],
   "source": [
    "calc_league_offense()"
   ]
  },
  {
   "cell_type": "code",
   "execution_count": 37,
   "id": "8a8101dc",
   "metadata": {
    "scrolled": true
   },
   "outputs": [
    {
     "name": "stdout",
     "output_type": "stream",
     "text": [
      "ARI\n",
      "ATL\n",
      "BAL\n",
      "BOS\n",
      "CHC\n",
      "CHW\n",
      "CIN\n",
      "CLE\n",
      "COL\n",
      "DET\n",
      "HOU\n",
      "KCR\n",
      "LAA\n",
      "LAD\n",
      "MIA\n",
      "MIL\n",
      "MIN\n",
      "NYM\n",
      "NYY\n",
      "OAK\n",
      "PHI\n",
      "PIT\n",
      "SDP\n",
      "SEA\n",
      "SFG\n",
      "STL\n",
      "TBR\n",
      "TEX\n",
      "TOR\n",
      "WAS\n"
     ]
    }
   ],
   "source": [
    "for t in lineups['Team']:\n",
    "    print(t)"
   ]
  },
  {
   "cell_type": "code",
   "execution_count": null,
   "id": "20944d41",
   "metadata": {},
   "outputs": [],
   "source": [
    " def new_calc(home_team, away_team, homeP, awayP, home_lineup = lineups.loc[home_team][1:10], away_lineup = lineups.loc[away_team][1:10])\n",
    "    \n",
    "    away_innings =start22['InningsPG'].loc[awayP]\n",
    "    away_xRA = start22['Combo'].loc[awayP] * (away_innings / 9) \n",
    "    \n",
    "    "
   ]
  },
  {
   "cell_type": "code",
   "execution_count": null,
   "id": "67db5101",
   "metadata": {},
   "outputs": [],
   "source": []
  }
 ],
 "metadata": {
  "kernelspec": {
   "display_name": "Python 3 (ipykernel)",
   "language": "python",
   "name": "python3"
  },
  "language_info": {
   "codemirror_mode": {
    "name": "ipython",
    "version": 3
   },
   "file_extension": ".py",
   "mimetype": "text/x-python",
   "name": "python",
   "nbconvert_exporter": "python",
   "pygments_lexer": "ipython3",
   "version": "3.9.7"
  }
 },
 "nbformat": 4,
 "nbformat_minor": 5
}
